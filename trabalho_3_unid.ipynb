{
  "nbformat": 4,
  "nbformat_minor": 0,
  "metadata": {
    "colab": {
      "name": "ProbNotebook01.ipynb",
      "version": "0.3.2",
      "provenance": [],
      "collapsed_sections": []
    },
    "kernelspec": {
      "name": "python3",
      "display_name": "Python 3"
    }
  },
  "cells": [
    {
      "metadata": {
        "id": "paXt9d3GSF3D",
        "colab_type": "text"
      },
      "cell_type": "markdown",
      "source": [
        "**PROBABILIDADE - Prof: IVANOVITCH MEDEIROS DANTAS DA SILVA **\n",
        "\n",
        "**Alunos envolvidos:**\n",
        "- ADONIAS GALVÃO FILHO\n",
        "- ÁTILA CAETANO DA SILVEIRA\n",
        "- PAULO VICTOR GOMES DE SOUSA\n",
        "\n",
        "\n",
        "[Explicação das análise dos dados](https://youtu.be/F77qUXxgYsM)\n",
        "\n"
      ]
    },
    {
      "metadata": {
        "id": "IecXvVeS9EiQ",
        "colab_type": "text"
      },
      "cell_type": "markdown",
      "source": [
        "# Preparação do Ambiente e Criação dos Dataframes"
      ]
    },
    {
      "metadata": {
        "id": "T40Y4jeAL_sx",
        "colab_type": "code",
        "colab": {}
      },
      "cell_type": "code",
      "source": [
        "import pandas as pd\n",
        "import numpy as np\n",
        "import seaborn as sns\n",
        "from urllib.request import urlopen\n",
        "import matplotlib.pyplot as plt"
      ],
      "execution_count": 0,
      "outputs": []
    },
    {
      "metadata": {
        "id": "8R10h7bBjC0B",
        "colab_type": "code",
        "colab": {}
      },
      "cell_type": "code",
      "source": [
        "url_componentes_curriculares = 'http://dados.ufrn.br/dataset/3fea67e8-6916-4ed0-aaa6-9a8ca06a9bdc/resource/9a3521d2-4bc5-4fda-93f0-f701c8a20727/download/componentes-curriculares-presenciais.csv'\n",
        "\n",
        "url_cursos = 'http://dados.ufrn.br/dataset/02526b96-cf40-4507-90b0-3afe5ddd53e7/resource/a10bc434-9a2d-491a-ae8c-41cf643c35bc/download/cursos-de-graduacao.csv'\n",
        "\n",
        "url_docentes = 'http://dados.ufrn.br/dataset/8bf1a468-48ff-4f4d-95ee-b17b7a3a5592/resource/ff0a457e-76fa-4aca-ad99-48aebd7db070/download/docentes.csv'\n",
        "\n",
        "url_matriculas_2015_1 = 'http://dados.ufrn.br/dataset/c8650d55-3c5a-4787-a126-d28a4ef902a6/resource/9e7ba1c2-f92d-4b9c-9e91-3b026ecdf913/download/matriculas-de-2015.1.csv'\n",
        "url_matriculas_2015_2 = 'http://dados.ufrn.br/dataset/c8650d55-3c5a-4787-a126-d28a4ef902a6/resource/baa6c8b4-2072-417f-b238-c028ccc8c14b/download/matriculas-de-2015.2.csv'\n",
        "url_matriculas_2016_1 = 'http://dados.ufrn.br/dataset/c8650d55-3c5a-4787-a126-d28a4ef902a6/resource/4778d3ce-8898-46a8-a623-ee6a480a2980/download/matriculas-de-2016.1.csv'\n",
        "url_matriculas_2016_2 = 'http://dados.ufrn.br/dataset/c8650d55-3c5a-4787-a126-d28a4ef902a6/resource/4778d3ce-8898-46a8-a623-ee6a480a2980/download/matriculas-de-2016.2.csv'\n",
        "url_matriculas_2017_1 = 'http://dados.ufrn.br/dataset/c8650d55-3c5a-4787-a126-d28a4ef902a6/resource/4778d3ce-8898-46a8-a623-ee6a480a2980/download/matriculas-de-2017.1.csv'\n",
        "url_matriculas_2017_2 = 'http://dados.ufrn.br/dataset/c8650d55-3c5a-4787-a126-d28a4ef902a6/resource/55dfe713-ff7c-4fa8-8d1d-d4294a025bff/download/matricula-componente-20172.csv'\n",
        "\n",
        "url_turma_2015_1 = 'http://dados.ufrn.br/dataset/1938623d-fb07-41a4-a55a-1691f7c3b8b5/resource/4d5aee5a-00b0-4ed6-a4be-59fa77a56797/download/turmas-2015.1.csv'\n",
        "url_turma_2015_2 = 'http://dados.ufrn.br/dataset/1938623d-fb07-41a4-a55a-1691f7c3b8b5/resource/7c59621c-4a8b-49d4-b319-83cfea9bdf28/download/turmas-2015.2.csv'\n",
        "url_turma_2016_1 = 'http://dados.ufrn.br/dataset/1938623d-fb07-41a4-a55a-1691f7c3b8b5/resource/322d9977-ba15-47f1-8216-75a1ca78e197/download/turmas-2016.1.csv'\n",
        "url_turma_2016_2 = 'http://dados.ufrn.br/dataset/1938623d-fb07-41a4-a55a-1691f7c3b8b5/resource/322d9977-ba15-47f1-8216-75a1ca78e197/download/turmas-2016.2.csv'\n",
        "url_turma_2017_1 = 'http://dados.ufrn.br/dataset/1938623d-fb07-41a4-a55a-1691f7c3b8b5/resource/322d9977-ba15-47f1-8216-75a1ca78e197/download/turmas-2017.1.csv'\n",
        "url_turma_2017_2 = 'http://dados.ufrn.br/dataset/1938623d-fb07-41a4-a55a-1691f7c3b8b5/resource/01fe7343-fdf0-4a67-b915-2386b7c2fecb/download/turmas-2017.2.csv'"
      ],
      "execution_count": 0,
      "outputs": []
    },
    {
      "metadata": {
        "id": "9I9FYedlMGPE",
        "colab_type": "code",
        "colab": {}
      },
      "cell_type": "code",
      "source": [
        "docentes = pd.read_csv(url_docentes, sep=';')\n",
        "\n",
        "cursos_ufrn = pd.read_csv(url_cursos, sep=';', error_bad_lines=False)\n",
        "\n",
        "componente = pd.read_csv(url_componentes_curriculares, sep=';'\n",
        "                         , usecols=[\"id_componente\",\"codigo\",\"nivel\",\"nome\",\"unidade_responsavel\"])\n",
        "\n",
        "matriculas_2015_1 = pd.read_csv(url_matriculas_2015_1, sep=';')\n",
        "matriculas_2015_2 = pd.read_csv(url_matriculas_2015_2, sep=';')\n",
        "matriculas_2016_1 = pd.read_csv(url_matriculas_2016_1, sep=';')\n",
        "matriculas_2016_2 = pd.read_csv(url_matriculas_2016_2, sep=';')\n",
        "matriculas_2017_1 = pd.read_csv(url_matriculas_2017_1, sep=';')\n",
        "matriculas_2017_2 = pd.read_csv(url_matriculas_2017_2, sep=';')"
      ],
      "execution_count": 0,
      "outputs": []
    },
    {
      "metadata": {
        "id": "uhyX0oi7UuH2",
        "colab_type": "code",
        "colab": {}
      },
      "cell_type": "code",
      "source": [
        "# Leitura dos csvs das turmas.\n",
        "\n",
        "turmas_2015_1 = pd.read_csv(url_turma_2015_1, sep=';')\n",
        "turmas_2015_2 = pd.read_csv(url_turma_2015_2, sep=';')\n",
        "turmas_2016_1 = pd.read_csv(url_turma_2016_1, sep=';') \n",
        "turmas_2016_2 = pd.read_csv(url_turma_2016_2, sep=';')\n",
        "turmas_2017_1 = pd.read_csv(url_turma_2017_1, sep=';')\n",
        "turmas_2017_2 = pd.read_csv(url_turma_2017_2, sep=';')\n",
        "\n",
        "turmas_2015_1.rename(columns={'id_componente_curricular': 'id_componente'}, inplace=True)\n",
        "turmas_2015_2.rename(columns={'id_componente_curricular': 'id_componente'}, inplace=True)\n",
        "turmas_2016_1.rename(columns={'id_componente_curricular': 'id_componente'}, inplace=True)\n",
        "turmas_2016_2.rename(columns={'id_componente_curricular': 'id_componente'}, inplace=True)\n",
        "turmas_2017_1.rename(columns={'id_componente_curricular': 'id_componente'}, inplace=True)\n",
        "turmas_2017_2.rename(columns={'id_componente_curricular': 'id_componente'}, inplace=True)\n",
        "\n",
        "turmas_2015_1.id_componente = turmas_2015_1.id_componente.astype(str)\n",
        "turmas_2015_2.id_componente = turmas_2015_2.id_componente.astype(str)\n",
        "turmas_2016_1.id_componente = turmas_2016_1.id_componente.astype(str)\n",
        "turmas_2016_2.id_componente = turmas_2016_2.id_componente.astype(str)\n",
        "turmas_2017_1.id_componente = turmas_2017_1.id_componente.astype(str)\n",
        "turmas_2017_2.id_componente = turmas_2017_2.id_componente.astype(str)\n",
        "\n",
        "# Adicionando \n",
        "\n",
        "turmas_2015_1['ano_semestre'] = '2015_1'\n",
        "turmas_2015_2['ano_semestre'] = '2015_2'\n",
        "turmas_2016_1['ano_semestre'] = '2016_1'\n",
        "turmas_2016_2['ano_semestre'] = '2016_2'\n",
        "turmas_2017_1['ano_semestre'] = '2017_1'\n",
        "turmas_2017_2['ano_semestre'] = '2017_2'"
      ],
      "execution_count": 0,
      "outputs": []
    },
    {
      "metadata": {
        "id": "imism3aJV9DZ",
        "colab_type": "code",
        "colab": {}
      },
      "cell_type": "code",
      "source": [
        "# Retirando a coluna Unnamed: 10 de alguns csvs\n",
        "\n",
        "matriculas_2015_1.drop('Unnamed: 10', 1, inplace=True) \n",
        "matriculas_2015_2.drop('Unnamed: 10', 1, inplace=True) \n",
        "matriculas_2016_1.drop('Unnamed: 10', 1, inplace=True) \n",
        "matriculas_2016_2.drop('Unnamed: 10', 1, inplace=True) \n",
        "\n",
        "# Criando coluna ano_semestre\n",
        "matriculas_2015_1['ano_semestre'] = '2015_1'\n",
        "matriculas_2015_2['ano_semestre'] = '2015_2'\n",
        "matriculas_2016_1['ano_semestre'] = '2016_1'\n",
        "matriculas_2016_2['ano_semestre'] = '2016_2'\n",
        "matriculas_2017_1['ano_semestre'] = '2017_1'\n",
        "matriculas_2017_2['ano_semestre'] = '2017_2'"
      ],
      "execution_count": 0,
      "outputs": []
    },
    {
      "metadata": {
        "id": "wqTA2ra9WJ1C",
        "colab_type": "code",
        "colab": {}
      },
      "cell_type": "code",
      "source": [
        "# Combinando dataframes das matrículas.\n",
        "\n",
        "frames = [matriculas_2015_1, matriculas_2015_2, matriculas_2016_1, matriculas_2016_2, matriculas_2017_1, matriculas_2017_2]\n",
        "matriculas = pd.concat(frames)\n",
        "\n",
        "# Combinando os dataframes das turmas.\n",
        "\n",
        "frames  = [turmas_2015_1, turmas_2015_2, turmas_2016_1, turmas_2016_2, turmas_2017_1, turmas_2017_2]\n",
        "turmas = pd.concat(frames)"
      ],
      "execution_count": 0,
      "outputs": []
    },
    {
      "metadata": {
        "id": "awBixdpeZ8AS",
        "colab_type": "code",
        "colab": {}
      },
      "cell_type": "code",
      "source": [
        "# Limpando dados inválidos/desconhecidos da descrição.\n",
        "\n",
        "matriculas = matriculas[matriculas.descricao != 'DESISTENCIA']\n",
        "matriculas = matriculas[matriculas.descricao != 'CANCELADO']\n",
        "matriculas = matriculas[matriculas.descricao != 'INDEFERIDO']\n",
        "matriculas = matriculas[matriculas.descricao != 'EXCLUIDA']\n",
        "matriculas = matriculas[matriculas.descricao != 'DISPENSADO']\n",
        "matriculas = matriculas[matriculas.descricao != 'CUMPRIU']\n",
        "matriculas = matriculas[matriculas.descricao != 'EM ESPERA']\n",
        "matriculas = matriculas[matriculas.descricao != 'AGUARDANDO DEFERIMENTO']\n",
        "matriculas = matriculas[matriculas.descricao != 'TRANSFERIDO']\n",
        "matriculas = matriculas[matriculas.descricao != 'INCORPORADO']"
      ],
      "execution_count": 0,
      "outputs": []
    },
    {
      "metadata": {
        "id": "pULlszfOaAIj",
        "colab_type": "code",
        "colab": {}
      },
      "cell_type": "code",
      "source": [
        "# Gerando dataframe com as turmas e componentes.\n",
        "\n",
        "colunas = [\"id_turma\",\"id_docente_interno\",\"codigo\",\"nivel_ensino\",\"nome\",\"unidade_responsavel\",\n",
        "          \"situacao_turma\",\"capacidade_aluno\",\"descricao_horario\", \"ano_semestre\"]\n",
        "turmas_componentes = pd.merge(turmas, componente, on='id_componente')[colunas]\n",
        "\n",
        "turmas_componentes.dropna(inplace=True)\n"
      ],
      "execution_count": 0,
      "outputs": []
    },
    {
      "metadata": {
        "id": "yQBaZRZ_aD3V",
        "colab_type": "code",
        "colab": {}
      },
      "cell_type": "code",
      "source": [
        "# Filtrando para os componentes do IMD\n",
        "\n",
        "componentes_imd = turmas_componentes[turmas_componentes.codigo.str.contains('IMD')]\n",
        "\n",
        "componentes_imd = componentes_imd[componentes_imd.situacao_turma == 'CONSOLIDADA']\n",
        "\n",
        "# Alterando o nome da coluna id_docente_interno para id_servidor (mesma do dataframe docentes).\n",
        "\n",
        "componentes_imd.rename(columns={'id_docente_interno': 'id_servidor'}, inplace=True)\n",
        "componentes_imd.capacidade_aluno = componentes_imd.capacidade_aluno.astype(np.int64)\n",
        "componentes_imd.id_servidor = componentes_imd.id_servidor.astype(np.int64)\n"
      ],
      "execution_count": 0,
      "outputs": []
    },
    {
      "metadata": {
        "id": "J0KVLZ6oaI-L",
        "colab_type": "code",
        "colab": {}
      },
      "cell_type": "code",
      "source": [
        "# Merge dos dataframes componentes_imd e docentes, para juntar os nomes dos docentes as turmas.\n",
        "\n",
        "colunas = [\"id_turma\", \"codigo\", \"nivel_ensino\", \"nome_y\", \"codigo\", \"nivel_ensino\",\n",
        "          \"nome_x\",\"capacidade_aluno\", \"descricao_horario\", \"ano_semestre\"]\n",
        "\n",
        "turmas_imd = pd.merge(componentes_imd, docentes, on=\"id_servidor\")[colunas]\n",
        "turmas_imd.id_turma = turmas_imd.id_turma.astype(np.int64)\n",
        "turmas_imd.drop('ano_semestre', axis=1, inplace=True)\n",
        "\n"
      ],
      "execution_count": 0,
      "outputs": []
    },
    {
      "metadata": {
        "id": "eDgJ_W1GaMWj",
        "colab_type": "code",
        "colab": {}
      },
      "cell_type": "code",
      "source": [
        "# Merge dos dataframes matriculas e turmas_imd.\n",
        "\n",
        "matriculas.id_turma = matriculas.id_turma.astype(np.int64)\n",
        "colunas = [\"id_turma\", \"discente\", \"codigo\", \"nome_y\", \"nome_x\", \"descricao_horario\", \"unidade\", \"nota\", \"reposicao\"\n",
        "           , \"media_final\", \"numero_total_faltas\", \"descricao\", \"ano_semestre\"]\n",
        "\n",
        "turmas_imd = pd.merge(matriculas, turmas_imd, on=\"id_turma\")[colunas]"
      ],
      "execution_count": 0,
      "outputs": []
    },
    {
      "metadata": {
        "id": "pBjd763aeXhC",
        "colab_type": "code",
        "colab": {}
      },
      "cell_type": "code",
      "source": [
        "turmas_imd.to_csv('matriculas_finais.csv', sep=';')"
      ],
      "execution_count": 0,
      "outputs": []
    },
    {
      "metadata": {
        "id": "X6x88btV3cqi",
        "colab_type": "text"
      },
      "cell_type": "markdown",
      "source": [
        "# Análise dos dados (FMC I)"
      ]
    },
    {
      "metadata": {
        "id": "RoJs611Iemk7",
        "colab_type": "code",
        "outputId": "614ab733-fd36-4bfb-fb37-32a1cdf2778b",
        "colab": {
          "base_uri": "https://localhost:8080/",
          "height": 479
        }
      },
      "cell_type": "code",
      "source": [
        "# Criação do dataframe contendo as notas da disciplina de FMC I.\n",
        "fmcI = turmas_imd.loc[turmas_imd['nome_x'] == 'FUNDAMENTOS MATEMÁTICOS DA COMPUTAÇÃO I']\n",
        "fmcI.head()"
      ],
      "execution_count": 155,
      "outputs": [
        {
          "output_type": "execute_result",
          "data": {
            "text/html": [
              "<div>\n",
              "<style scoped>\n",
              "    .dataframe tbody tr th:only-of-type {\n",
              "        vertical-align: middle;\n",
              "    }\n",
              "\n",
              "    .dataframe tbody tr th {\n",
              "        vertical-align: top;\n",
              "    }\n",
              "\n",
              "    .dataframe thead th {\n",
              "        text-align: right;\n",
              "    }\n",
              "</style>\n",
              "<table border=\"1\" class=\"dataframe\">\n",
              "  <thead>\n",
              "    <tr style=\"text-align: right;\">\n",
              "      <th></th>\n",
              "      <th>id_turma</th>\n",
              "      <th>discente</th>\n",
              "      <th>codigo</th>\n",
              "      <th>codigo</th>\n",
              "      <th>nome_y</th>\n",
              "      <th>nome_x</th>\n",
              "      <th>descricao_horario</th>\n",
              "      <th>unidade</th>\n",
              "      <th>nota</th>\n",
              "      <th>reposicao</th>\n",
              "      <th>media_final</th>\n",
              "      <th>numero_total_faltas</th>\n",
              "      <th>descricao</th>\n",
              "      <th>ano_semestre</th>\n",
              "    </tr>\n",
              "  </thead>\n",
              "  <tbody>\n",
              "    <tr>\n",
              "      <th>2245</th>\n",
              "      <td>1239527</td>\n",
              "      <td>f250d74dc7561f1f4f5e39242df98be1</td>\n",
              "      <td>IMD0028</td>\n",
              "      <td>IMD0028</td>\n",
              "      <td>ANDERSON PAIVA CRUZ</td>\n",
              "      <td>FUNDAMENTOS MATEMÁTICOS DA COMPUTAÇÃO I</td>\n",
              "      <td>246M34 (02/02/2015 - 20/06/2015)</td>\n",
              "      <td>1.0</td>\n",
              "      <td>6.3</td>\n",
              "      <td>f</td>\n",
              "      <td>5.0</td>\n",
              "      <td>14.0</td>\n",
              "      <td>APROVADO POR NOTA</td>\n",
              "      <td>2015_1</td>\n",
              "    </tr>\n",
              "    <tr>\n",
              "      <th>2246</th>\n",
              "      <td>1239527</td>\n",
              "      <td>f250d74dc7561f1f4f5e39242df98be1</td>\n",
              "      <td>IMD0028</td>\n",
              "      <td>IMD0028</td>\n",
              "      <td>ANDERSON PAIVA CRUZ</td>\n",
              "      <td>FUNDAMENTOS MATEMÁTICOS DA COMPUTAÇÃO I</td>\n",
              "      <td>246M34 (02/02/2015 - 20/06/2015)</td>\n",
              "      <td>2.0</td>\n",
              "      <td>5.0</td>\n",
              "      <td>f</td>\n",
              "      <td>5.0</td>\n",
              "      <td>14.0</td>\n",
              "      <td>APROVADO POR NOTA</td>\n",
              "      <td>2015_1</td>\n",
              "    </tr>\n",
              "    <tr>\n",
              "      <th>2247</th>\n",
              "      <td>1239527</td>\n",
              "      <td>f250d74dc7561f1f4f5e39242df98be1</td>\n",
              "      <td>IMD0028</td>\n",
              "      <td>IMD0028</td>\n",
              "      <td>ANDERSON PAIVA CRUZ</td>\n",
              "      <td>FUNDAMENTOS MATEMÁTICOS DA COMPUTAÇÃO I</td>\n",
              "      <td>246M34 (02/02/2015 - 20/06/2015)</td>\n",
              "      <td>3.0</td>\n",
              "      <td>1.0</td>\n",
              "      <td>t</td>\n",
              "      <td>5.0</td>\n",
              "      <td>14.0</td>\n",
              "      <td>APROVADO POR NOTA</td>\n",
              "      <td>2015_1</td>\n",
              "    </tr>\n",
              "    <tr>\n",
              "      <th>2248</th>\n",
              "      <td>1239527</td>\n",
              "      <td>d7f8876f19565420cb9f33e0e97c468b</td>\n",
              "      <td>IMD0028</td>\n",
              "      <td>IMD0028</td>\n",
              "      <td>ANDERSON PAIVA CRUZ</td>\n",
              "      <td>FUNDAMENTOS MATEMÁTICOS DA COMPUTAÇÃO I</td>\n",
              "      <td>246M34 (02/02/2015 - 20/06/2015)</td>\n",
              "      <td>1.0</td>\n",
              "      <td>3.8</td>\n",
              "      <td>f</td>\n",
              "      <td>1.3</td>\n",
              "      <td>42.0</td>\n",
              "      <td>REPROVADO POR MÉDIA E POR FALTAS</td>\n",
              "      <td>2015_1</td>\n",
              "    </tr>\n",
              "    <tr>\n",
              "      <th>2249</th>\n",
              "      <td>1239527</td>\n",
              "      <td>d7f8876f19565420cb9f33e0e97c468b</td>\n",
              "      <td>IMD0028</td>\n",
              "      <td>IMD0028</td>\n",
              "      <td>ANDERSON PAIVA CRUZ</td>\n",
              "      <td>FUNDAMENTOS MATEMÁTICOS DA COMPUTAÇÃO I</td>\n",
              "      <td>246M34 (02/02/2015 - 20/06/2015)</td>\n",
              "      <td>2.0</td>\n",
              "      <td>0.0</td>\n",
              "      <td>f</td>\n",
              "      <td>1.3</td>\n",
              "      <td>42.0</td>\n",
              "      <td>REPROVADO POR MÉDIA E POR FALTAS</td>\n",
              "      <td>2015_1</td>\n",
              "    </tr>\n",
              "  </tbody>\n",
              "</table>\n",
              "</div>"
            ],
            "text/plain": [
              "      id_turma                          discente   codigo   codigo  \\\n",
              "2245   1239527  f250d74dc7561f1f4f5e39242df98be1  IMD0028  IMD0028   \n",
              "2246   1239527  f250d74dc7561f1f4f5e39242df98be1  IMD0028  IMD0028   \n",
              "2247   1239527  f250d74dc7561f1f4f5e39242df98be1  IMD0028  IMD0028   \n",
              "2248   1239527  d7f8876f19565420cb9f33e0e97c468b  IMD0028  IMD0028   \n",
              "2249   1239527  d7f8876f19565420cb9f33e0e97c468b  IMD0028  IMD0028   \n",
              "\n",
              "                   nome_y                                   nome_x  \\\n",
              "2245  ANDERSON PAIVA CRUZ  FUNDAMENTOS MATEMÁTICOS DA COMPUTAÇÃO I   \n",
              "2246  ANDERSON PAIVA CRUZ  FUNDAMENTOS MATEMÁTICOS DA COMPUTAÇÃO I   \n",
              "2247  ANDERSON PAIVA CRUZ  FUNDAMENTOS MATEMÁTICOS DA COMPUTAÇÃO I   \n",
              "2248  ANDERSON PAIVA CRUZ  FUNDAMENTOS MATEMÁTICOS DA COMPUTAÇÃO I   \n",
              "2249  ANDERSON PAIVA CRUZ  FUNDAMENTOS MATEMÁTICOS DA COMPUTAÇÃO I   \n",
              "\n",
              "                     descricao_horario  unidade  nota reposicao  media_final  \\\n",
              "2245  246M34 (02/02/2015 - 20/06/2015)      1.0   6.3         f          5.0   \n",
              "2246  246M34 (02/02/2015 - 20/06/2015)      2.0   5.0         f          5.0   \n",
              "2247  246M34 (02/02/2015 - 20/06/2015)      3.0   1.0         t          5.0   \n",
              "2248  246M34 (02/02/2015 - 20/06/2015)      1.0   3.8         f          1.3   \n",
              "2249  246M34 (02/02/2015 - 20/06/2015)      2.0   0.0         f          1.3   \n",
              "\n",
              "      numero_total_faltas                         descricao ano_semestre  \n",
              "2245                 14.0                 APROVADO POR NOTA       2015_1  \n",
              "2246                 14.0                 APROVADO POR NOTA       2015_1  \n",
              "2247                 14.0                 APROVADO POR NOTA       2015_1  \n",
              "2248                 42.0  REPROVADO POR MÉDIA E POR FALTAS       2015_1  \n",
              "2249                 42.0  REPROVADO POR MÉDIA E POR FALTAS       2015_1  "
            ]
          },
          "metadata": {
            "tags": []
          },
          "execution_count": 155
        }
      ]
    },
    {
      "metadata": {
        "id": "_HdcYD199adt",
        "colab_type": "text"
      },
      "cell_type": "markdown",
      "source": [
        "**Análise das situações dos alunos de todas as turmas de FMC I de 2015.1 - 2017.2 **"
      ]
    },
    {
      "metadata": {
        "id": "Kzi0N8EgbEm8",
        "colab_type": "code",
        "colab": {
          "base_uri": "https://localhost:8080/",
          "height": 412
        },
        "outputId": "7ef6ad92-7288-4a09-a8de-539fc937924a"
      },
      "cell_type": "code",
      "source": [
        "sns.countplot(x=fmcI[\"ano_semestre\"], hue=fmcI[\"descricao\"], hue_order = ['APROVADO','APROVADO POR NOTA','TRANCADO','REPROVADO',\n",
        "                                                                          'REPROVADO POR FALTAS','REPROVADO POR NOTA','REPROVADO POR MÉDIA E POR FALTAS'])"
      ],
      "execution_count": 192,
      "outputs": [
        {
          "output_type": "stream",
          "text": [
            "/usr/local/lib/python3.6/dist-packages/seaborn/categorical.py:1468: FutureWarning: remove_na is deprecated and is a private function. Do not use.\n",
            "  stat_data = remove_na(group_data[hue_mask])\n"
          ],
          "name": "stderr"
        },
        {
          "output_type": "execute_result",
          "data": {
            "text/plain": [
              "<matplotlib.axes._subplots.AxesSubplot at 0x7f22f5392048>"
            ]
          },
          "metadata": {
            "tags": []
          },
          "execution_count": 192
        },
        {
          "output_type": "display_data",
          "data": {
            "image/png": "[encoded data removed]",
            "text/plain": [
              "<matplotlib.figure.Figure at 0x7f22f5578c50>"
            ]
          },
          "metadata": {
            "tags": []
          }
        }
      ]
    },
    {
      "metadata": {
        "id": "tXpZZk9g9ygC",
        "colab_type": "text"
      },
      "cell_type": "markdown",
      "source": [
        "**As 3 unidades de FMC I de todos os semestres (2015.1 - 2017.2)**"
      ]
    },
    {
      "metadata": {
        "id": "GJqLjLGJxUXl",
        "colab_type": "code",
        "colab": {}
      },
      "cell_type": "code",
      "source": [
        "# separar as matriculas por unidades\n",
        "uni1 = fmcI[fmcI['unidade'] == 1.0]\n",
        "uni2 = fmcI[fmcI['unidade'] == 2.0]\n",
        "uni3 = fmcI[fmcI['unidade'] == 3.0]"
      ],
      "execution_count": 0,
      "outputs": []
    },
    {
      "metadata": {
        "id": "H-WU8ewbiwzQ",
        "colab_type": "code",
        "outputId": "576d7dd6-0998-4640-a1f7-c1c0185ed387",
        "colab": {
          "base_uri": "https://localhost:8080/",
          "height": 401
        }
      },
      "cell_type": "code",
      "source": [
        "df = pd.DataFrame(index=range(1,len(uni1)), columns = ['unidade_1', 'unidade_2', 'unidade_3'])\n",
        "df['unidade_1'] = uni1['nota'].reset_index()['nota']\n",
        "df['unidade_2'] = uni2['nota'].reset_index()['nota']\n",
        "df['unidade_3'] = uni3['nota'].reset_index()['nota']\n",
        "\n",
        "sns.boxplot(data=df)\n",
        "plt.show()"
      ],
      "execution_count": 0,
      "outputs": [
        {
          "output_type": "stream",
          "text": [
            "/usr/local/lib/python3.6/dist-packages/seaborn/categorical.py:454: FutureWarning: remove_na is deprecated and is a private function. Do not use.\n",
            "  box_data = remove_na(group_data)\n"
          ],
          "name": "stderr"
        },
        {
          "output_type": "display_data",
          "data": {
            "image/png": "[encoded data removed]",
            "text/plain": [
              "<matplotlib.figure.Figure at 0x7fe86338bcf8>"
            ]
          },
          "metadata": {
            "tags": []
          }
        }
      ]
    },
    {
      "metadata": {
        "id": "kXVk_FtK-2N6",
        "colab_type": "text"
      },
      "cell_type": "markdown",
      "source": [
        "**1ª Unidade de todos os semestres**"
      ]
    },
    {
      "metadata": {
        "id": "lzC8GPJhoNBC",
        "colab_type": "code",
        "colab": {}
      },
      "cell_type": "code",
      "source": [
        "uni_1_2015_1 = uni1[uni1['ano_semestre'] == '2015_1']['nota'].reset_index()\n",
        "uni_1_2015_2 = uni1[uni1['ano_semestre'] == '2015_2']['nota'].reset_index()\n",
        "uni_1_2016_1 = uni1[uni1['ano_semestre'] == '2016_1']['nota'].reset_index()\n",
        "uni_1_2016_2 = uni1[uni1['ano_semestre'] == '2016_2']['nota'].reset_index()\n",
        "uni_1_2017_1 = uni1[uni1['ano_semestre'] == '2017_1']['nota'].reset_index()\n",
        "uni_1_2017_2 = uni1[uni1['ano_semestre'] == '2017_2']['nota'].reset_index()\n",
        "\n",
        "uni_1_2015_2017 = pd.DataFrame(index=range(1,len(uni_1_2015_1)), columns = ['2015_1', '2015_2', '2016_1', '2016_2', '2017_1', '2017_2'])\n",
        "uni_1_2015_2017['2015_1'] = uni_1_2015_1['nota']\n",
        "uni_1_2015_2017['2015_2'] = uni_1_2015_2['nota']\n",
        "uni_1_2015_2017['2016_1'] = uni_1_2016_1['nota']\n",
        "uni_1_2015_2017['2016_2'] = uni_1_2016_2['nota']\n",
        "uni_1_2015_2017['2017_1'] = uni_1_2017_1['nota']\n",
        "uni_1_2015_2017['2017_2'] = uni_1_2017_2['nota']"
      ],
      "execution_count": 0,
      "outputs": []
    },
    {
      "metadata": {
        "id": "o9wm8WNy_Bel",
        "colab_type": "text"
      },
      "cell_type": "markdown",
      "source": [
        "**2ª Unidade de todos os semestres**"
      ]
    },
    {
      "metadata": {
        "id": "R-FxsnKvES0-",
        "colab_type": "code",
        "colab": {}
      },
      "cell_type": "code",
      "source": [
        "#Unidades 2\n",
        "\n",
        "uni_2_2015_1 = uni2[uni2['ano_semestre'] == '2015_1']['nota'].reset_index()\n",
        "uni_2_2015_2 = uni2[uni2['ano_semestre'] == '2015_2']['nota'].reset_index()\n",
        "uni_2_2016_1 = uni2[uni2['ano_semestre'] == '2016_1']['nota'].reset_index()\n",
        "uni_2_2016_2 = uni2[uni2['ano_semestre'] == '2016_2']['nota'].reset_index()\n",
        "uni_2_2017_1 = uni2[uni2['ano_semestre'] == '2017_1']['nota'].reset_index()\n",
        "uni_2_2017_2 = uni2[uni2['ano_semestre'] == '2017_2']['nota'].reset_index()\n",
        "\n",
        "uni_2_2015_2017 = pd.DataFrame(index=range(1,len(uni_2_2015_1)), columns = ['2015_1', '2015_2', '2016_1', '2016_2', '2017_1', '2017_2'])\n",
        "uni_2_2015_2017['2015_1'] = uni_2_2015_1['nota']\n",
        "uni_2_2015_2017['2015_2'] = uni_2_2015_2['nota']\n",
        "uni_2_2015_2017['2016_1'] = uni_2_2016_1['nota']\n",
        "uni_2_2015_2017['2016_2'] = uni_2_2016_2['nota']\n",
        "uni_2_2015_2017['2017_1'] = uni_2_2017_1['nota']\n",
        "uni_2_2015_2017['2017_2'] = uni_2_2017_2['nota']"
      ],
      "execution_count": 0,
      "outputs": []
    },
    {
      "metadata": {
        "id": "lB33lt3f_DUd",
        "colab_type": "text"
      },
      "cell_type": "markdown",
      "source": [
        "**3ª Unidade de todos os semestres**"
      ]
    },
    {
      "metadata": {
        "id": "-1aKFyK4ErZY",
        "colab_type": "code",
        "colab": {}
      },
      "cell_type": "code",
      "source": [
        "#Unidades 3\n",
        "\n",
        "uni_3_2015_1 = uni3[uni3['ano_semestre'] == '2015_1']['nota'].reset_index()\n",
        "uni_3_2015_2 = uni3[uni3['ano_semestre'] == '2015_2']['nota'].reset_index()\n",
        "uni_3_2016_1 = uni3[uni3['ano_semestre'] == '2016_1']['nota'].reset_index()\n",
        "uni_3_2016_2 = uni3[uni3['ano_semestre'] == '2016_2']['nota'].reset_index()\n",
        "uni_3_2017_1 = uni3[uni3['ano_semestre'] == '2017_1']['nota'].reset_index()\n",
        "uni_3_2017_2 = uni3[uni3['ano_semestre'] == '2017_2']['nota'].reset_index()\n",
        "\n",
        "uni_3_2015_2017 = pd.DataFrame(index=range(1,len(uni_3_2015_1)), columns = ['2015_1', '2015_2', '2016_1', '2016_2', '2017_1', '2017_2'])\n",
        "uni_3_2015_2017['2015_1'] = uni_3_2015_1['nota']\n",
        "uni_3_2015_2017['2015_2'] = uni_3_2015_2['nota']\n",
        "uni_3_2015_2017['2016_1'] = uni_3_2016_1['nota']\n",
        "uni_3_2015_2017['2016_2'] = uni_3_2016_2['nota']\n",
        "uni_3_2015_2017['2017_1'] = uni_3_2017_1['nota']\n",
        "uni_3_2015_2017['2017_2'] = uni_3_2017_2['nota']"
      ],
      "execution_count": 0,
      "outputs": []
    },
    {
      "metadata": {
        "id": "WFw8pdPWA_uW",
        "colab_type": "text"
      },
      "cell_type": "markdown",
      "source": [
        "**Média das notas de cada unidade de todos os semestres (2015.1 - 2017.2)**"
      ]
    },
    {
      "metadata": {
        "id": "rMbTvyp5wPjI",
        "colab_type": "code",
        "outputId": "0097417d-d5ee-426f-ce2b-42902737b618",
        "colab": {
          "base_uri": "https://localhost:8080/",
          "height": 362
        }
      },
      "cell_type": "code",
      "source": [
        "fig = plt.figure()\n",
        "ax1 = fig.add_subplot(2,2,1)\n",
        "ax2 = fig.add_subplot(2,2,2)\n",
        "ax3 = fig.add_subplot(2,2,3)\n",
        "\n",
        "\n",
        "MeanUnidd1 = []\n",
        "MeanUnidd2 = []\n",
        "MeanUnidd3 = []\n",
        "\n",
        "MeanUnidd1.append(uni_1_2015_1['nota'].mean())\n",
        "MeanUnidd1.append(uni_1_2015_2['nota'].mean())\n",
        "MeanUnidd1.append(uni_1_2016_1['nota'].mean())\n",
        "MeanUnidd1.append(uni_1_2016_2['nota'].mean())\n",
        "MeanUnidd1.append(uni_1_2017_1['nota'].mean())\n",
        "MeanUnidd1.append(uni_1_2017_2['nota'].mean())\n",
        "\n",
        "\n",
        "MeanUnidd2.append(uni_2_2015_1['nota'].mean())\n",
        "MeanUnidd2.append(uni_2_2015_2['nota'].mean())\n",
        "MeanUnidd2.append(uni_2_2016_1['nota'].mean())\n",
        "MeanUnidd2.append(uni_2_2016_2['nota'].mean())\n",
        "MeanUnidd2.append(uni_2_2017_1['nota'].mean())\n",
        "MeanUnidd2.append(uni_2_2017_2['nota'].mean())\n",
        "\n",
        "MeanUnidd3.append(uni_3_2015_1['nota'].mean())\n",
        "MeanUnidd3.append(uni_3_2015_2['nota'].mean())\n",
        "MeanUnidd3.append(uni_3_2016_1['nota'].mean())\n",
        "MeanUnidd3.append(uni_3_2016_2['nota'].mean())\n",
        "MeanUnidd3.append(uni_3_2017_1['nota'].mean())\n",
        "MeanUnidd3.append(uni_3_2017_2['nota'].mean())\n",
        "\n",
        "plt.xticks(np.arange(6),(\"2015.1\",\"2015.2\",\"2016.1\",\"2016.2\",\"2017.1\",\"2017.2\"))\n",
        "\n",
        "ax1.set_title(\"Media de notas na unidade 1 em FMC I\")\n",
        "ax1.get_xaxis().set_visible(False)\n",
        "ax1.plot(MeanUnidd1)\n",
        "ax1.set_xticklabels((\"2015.1\",\"2015.2\",\"2016.1\",\"2016.2\",\"2017.1\",\"2017.2\"))\n",
        "\n",
        "ax2.plot(MeanUnidd2)\n",
        "ax2.set_title(\"Media de notas na unidade 2 em FMC I\")\n",
        "ax2.set_xticklabels((\"2015.1\",\"2015.2\",\"2016.1\",\"2016.2\",\"2017.1\",\"2017.2\"))\n",
        "\n",
        "ax3.plot(MeanUnidd3)\n",
        "ax3.set_title(\"Media de notas na unidade 3 em FMC I\")\n",
        "\n",
        "\n",
        "plt.show()"
      ],
      "execution_count": 218,
      "outputs": [
        {
          "output_type": "display_data",
          "data": {
            "image/png": "[encoded data removed]",
            "text/plain": [
              "<matplotlib.figure.Figure at 0x7f22f4ebb198>"
            ]
          },
          "metadata": {
            "tags": []
          }
        }
      ]
    },
    {
      "metadata": {
        "id": "Jc3yes77Brtp",
        "colab_type": "text"
      },
      "cell_type": "markdown",
      "source": [
        "**Situação dos discentes que fizeram reposição**"
      ]
    },
    {
      "metadata": {
        "id": "So341SohItxd",
        "colab_type": "code",
        "outputId": "220e35cf-9876-4aeb-8892-7e1ef9919e6c",
        "colab": {
          "base_uri": "https://localhost:8080/",
          "height": 345
        }
      },
      "cell_type": "code",
      "source": [
        "#fmcI[fmcI['reposicao'] == 't' ] and fmcI[fmcI['descricao'] == 'REPROVADO']\n",
        "\n",
        "#rep = fmcI.loc[(fmcI['reposicao'] == 't') & (fmcI['descricao'] == 'REPROVADO')]\n",
        "\n",
        "#aprov = fmcI.loc[(fmcI['reposicao'] == 't') & (fmcI['descricao'] == 'APROVADO')]\n",
        "\n",
        "rec = fmcI[fmcI['reposicao'] == 't']\n",
        "\n",
        "pd.value_counts(rec['descricao'].values,sort=True).plot.pie(title=\"2015.2 - 2017.2 situação dos discentes que fizeram reposição\",autopct = '%.2f%%')\n",
        "plt.show()"
      ],
      "execution_count": 195,
      "outputs": [
        {
          "output_type": "display_data",
          "data": {
            "image/png": "[encoded data removed]",
            "text/plain": [
              "<matplotlib.figure.Figure at 0x7f22f55beba8>"
            ]
          },
          "metadata": {
            "tags": []
          }
        }
      ]
    }
  ]
}